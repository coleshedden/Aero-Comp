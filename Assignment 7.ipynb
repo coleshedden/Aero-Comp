{
 "cells": [
  {
   "cell_type": "markdown",
   "id": "43b16a86-07dc-4990-bc1d-c8fbe72ece4a",
   "metadata": {},
   "source": [
    "# Assignment #7 - Numerical Integration"
   ]
  },
  {
   "cell_type": "code",
   "execution_count": 1,
   "id": "50718c67-cbb8-407a-9055-4ebbb520e1f4",
   "metadata": {},
   "outputs": [],
   "source": [
    "import sympy as sp\n",
    "import numpy as np\n",
    "import matplotlib.pyplot as plt"
   ]
  },
  {
   "cell_type": "markdown",
   "id": "683cf02b-3169-419b-95cf-e29c956db1e1",
   "metadata": {},
   "source": [
    "## Problem Set 6.1 #10"
   ]
  },
  {
   "cell_type": "code",
   "execution_count": 2,
   "id": "eb528d6e-5a7a-448c-910a-e2a8d4fbd8f7",
   "metadata": {},
   "outputs": [
    {
     "name": "stdout",
     "output_type": "stream",
     "text": [
      "The integral of 1/sqrt(sin(x)) from 0 to pi/4 is 1.79116133811118\n"
     ]
    }
   ],
   "source": [
    "# Define the symbol\n",
    "x = sp.Symbol('x')\n",
    "\n",
    "# Define the function to integrate\n",
    "f = 1 / sp.sqrt(sp.sin(x))\n",
    "\n",
    "# Integrate the function with bounds 0 to pi/4\n",
    "integral_bounds = sp.integrate(f, (x, 0, sp.pi/4))\n",
    "\n",
    "# Evaluate the integral numerically\n",
    "numerical_integral = integral_bounds.evalf()\n",
    "\n",
    "print(\"The integral of\", f, \"from 0 to pi/4 is\", numerical_integral)"
   ]
  },
  {
   "cell_type": "markdown",
   "id": "179fa5b1-f288-4379-a1ea-f891790a8604",
   "metadata": {},
   "source": [
    "## Problem Set 6.1 #14"
   ]
  },
  {
   "cell_type": "code",
   "execution_count": 3,
   "id": "5a0d08c9-74fb-4237-91d4-3af3f15f3010",
   "metadata": {},
   "outputs": [
    {
     "data": {
      "image/png": "[encoded data removed]",
      "text/plain": [
       "<Figure size 640x480 with 1 Axes>"
      ]
     },
     "metadata": {},
     "output_type": "display_data"
    }
   ],
   "source": [
    "# Define the symbol\n",
    "x, u = sp.symbols('x u')\n",
    "\n",
    "# Define the function to integrate\n",
    "f = (x**4*sp.exp(x)) / (sp.exp(x)-1)**2\n",
    "\n",
    "# Integrate the function with bounds 0 to 1/u\n",
    "integral_bounds = sp.integrate(f, (x, 0, 1/u))\n",
    "\n",
    "# Multiply by u^3\n",
    "integral_bounds *= u**3\n",
    "\n",
    "# Convert to a numerical function\n",
    "integral_func = sp.lambdify(u, integral_bounds)\n",
    "\n",
    "# Evaluate the integral numerically\n",
    "u_values = np.arange(0.05, 1.05, 0.05)\n",
    "integral_values = [integral_func(u_val) for u_val in u_values]\n",
    "\n",
    "plt.plot(u_values, integral_values)\n",
    "plt.xlabel('u')\n",
    "plt.ylabel('Heat Capacity')\n",
    "plt.title('Heat Capacity vs. u')\n",
    "plt.grid(True)\n",
    "plt.show()"
   ]
  },
  {
   "cell_type": "markdown",
   "id": "0d2255cc-3ee0-45a8-933f-45f63dc4aff5",
   "metadata": {},
   "source": [
    "## Problem Set 6.2 #1"
   ]
  },
  {
   "cell_type": "code",
   "execution_count": 43,
   "id": "b5fa7022-23ab-4bab-957f-6326d50b9cd4",
   "metadata": {},
   "outputs": [
    {
     "name": "stdout",
     "output_type": "stream",
     "text": [
      "Value of the integral w/ two nodes is 0.6067250072484867\n",
      "\n",
      "Value of the integral w/ four nodes is 0.5847680362120717\n"
     ]
    }
   ],
   "source": [
    "import math\n",
    "import MyFunc\n",
    "\n",
    "def f(x):\n",
    "    return np.log(x) / (x**2 - 2*x + 2)\n",
    "\n",
    "a = 1.0\n",
    "b = math.pi\n",
    "\n",
    "\n",
    "I = MyFunc.gaussQuad(f, a, b, 2)\n",
    "\n",
    "I2 = MyFunc.gaussQuad(f, a, b, 4)\n",
    "\n",
    "print(\"Value of the integral w/ two nodes is\", I)\n",
    "print(\"\\nValue of the integral w/ four nodes is\", I2)"
   ]
  },
  {
   "cell_type": "markdown",
   "id": "0c6bf8ee-eb05-4562-8fce-13cb0c69bea3",
   "metadata": {},
   "source": [
    "## Problem Set 6.2 #11"
   ]
  },
  {
   "cell_type": "code",
   "execution_count": 42,
   "id": "f52209d8-8dd7-41fc-8a7e-af7eeb6b87e2",
   "metadata": {},
   "outputs": [
    {
     "name": "stdin",
     "output_type": "stream",
     "text": [
      "Input value of a:  2\n",
      "Input value of b:  1\n"
     ]
    },
    {
     "name": "stdout",
     "output_type": "stream",
     "text": [
      "Value of the integral: 9.68844822054768\n"
     ]
    }
   ],
   "source": [
    "import sympy as sp\n",
    "\n",
    "# Define the symbolic variable x\n",
    "x, a, b = sp.symbols('x a b')\n",
    "\n",
    "# Input values of a and b\n",
    "a_value = float(input(\"Input value of a: \"))\n",
    "b_value = float(input(\"Input value of b: \"))\n",
    "\n",
    "# Define the function y\n",
    "y = sp.sqrt(b**2 * (1 - (x**2/a**2)))\n",
    "\n",
    "# Calculate the derivative of y with respect to x\n",
    "dydx = sp.diff(y, x)\n",
    "\n",
    "# Calculate the expression f\n",
    "f = sp.sqrt(1 + dydx**2)\n",
    "\n",
    "# Perform the integral\n",
    "integral = sp.integrate(f, (x, -a, a))\n",
    "\n",
    "# Substitute the values of a and b\n",
    "integral_value = integral.subs({a: a_value, b: b_value})\n",
    "\n",
    "value = 2.0 * integral_value.evalf()\n",
    "\n",
    "print(\"Value of the integral:\", value)\n"
   ]
  },
  {
   "cell_type": "markdown",
   "id": "a5eba722-5ab0-4767-b3a7-19d2908525c9",
   "metadata": {},
   "source": [
    "## Problem Set 6.3 #11"
   ]
  },
  {
   "cell_type": "code",
   "execution_count": 28,
   "id": "9631dee2-b59d-484e-ae18-05560a787ed8",
   "metadata": {},
   "outputs": [
    {
     "name": "stdout",
     "output_type": "stream",
     "text": [
      "Result of the double integral: 41.8539682539683\n"
     ]
    }
   ],
   "source": [
    "import sympy as sp\n",
    "\n",
    "# Define symbolic variables\n",
    "x, y = sp.symbols('x y')\n",
    "\n",
    "# Define the function to be integrated\n",
    "f = x*y*(2-x**2)*(2-x*y)\n",
    "\n",
    "# Perform the double integral\n",
    "result = sp.integrate(sp.integrate(f, (x, y/2-2, y/2+2)), (y, -2, 2))\n",
    "\n",
    "result = result.evalf()\n",
    "\n",
    "print(\"Result of the double integral:\", result)"
   ]
  },
  {
   "cell_type": "code",
   "execution_count": null,
   "id": "24618aa9-2a8d-4684-bb22-baa93a2f2ba7",
   "metadata": {},
   "outputs": [],
   "source": []
  }
 ],
 "metadata": {
  "kernelspec": {
   "display_name": "Python 3 (ipykernel)",
   "language": "python",
   "name": "python3"
  },
  "language_info": {
   "codemirror_mode": {
    "name": "ipython",
    "version": 3
   },
   "file_extension": ".py",
   "mimetype": "text/x-python",
   "name": "python",
   "nbconvert_exporter": "python",
   "pygments_lexer": "ipython3",
   "version": "3.11.5"
  }
 },
 "nbformat": 4,
 "nbformat_minor": 5
}
