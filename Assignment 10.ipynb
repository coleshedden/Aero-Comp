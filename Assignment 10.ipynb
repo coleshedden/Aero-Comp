{
 "cells": [
  {
   "cell_type": "markdown",
   "id": "c76d5596-b3a3-4012-8aa0-72eb155f9924",
   "metadata": {},
   "source": [
    "# Assignment 10"
   ]
  },
  {
   "cell_type": "code",
   "execution_count": 2,
   "id": "7b8fa014-34bf-4d0b-a796-39a51c4cda39",
   "metadata": {},
   "outputs": [
    {
     "name": "stdout",
     "output_type": "stream",
     "text": [
      "1.26.3\n",
      "1.11.4\n"
     ]
    }
   ],
   "source": [
    "import numpy as np\n",
    "import scipy as sp\n",
    "print(np.__version__)\n",
    "print(sp.__version__)\n",
    "\n",
    "# Suppress exponential values from printing\n",
    "np.set_printoptions(suppress=True)\n",
    "\n",
    "# To get typset effect while printing\n",
    "from time import sleep\n",
    "import sys"
   ]
  },
  {
   "cell_type": "code",
   "execution_count": 3,
   "id": "b5dc73fd-7da6-400b-a679-05c6845e2202",
   "metadata": {},
   "outputs": [],
   "source": [
    "A = np.array([[9, 6, 0, 0, 0],\n",
    "             [0, 9, 0, 0, 0],\n",
    "             [0, 0, 9, 0, 0],\n",
    "             [0, 0, 0, 9, -5],\n",
    "             [0, 0, 0, 0, 9]], dtype = \"float\")\n",
    "\n",
    "# compute the eigensystem\n",
    "# Lambda, X\n",
    "values, vectors = np.linalg.eig(A.copy())"
   ]
  },
  {
   "cell_type": "code",
   "execution_count": 4,
   "id": "254c2d0a-237a-4d0a-9941-3c40d4303706",
   "metadata": {},
   "outputs": [
    {
     "name": "stdout",
     "output_type": "stream",
     "text": [
      "~~~~~~~~~~~~~~~~~~~~~~~~~~~~~~~~~~~~~~~~~~~~~~~~~~\n",
      "Eigenvalues:\n",
      "[9. 9. 9. 9. 9.]\n",
      "\n",
      "Eigenvectors:\n",
      "[[ 1. -1.  0.  0.  0.]\n",
      " [ 0.  0.  0.  0.  0.]\n",
      " [ 0.  0.  1.  0.  0.]\n",
      " [ 0.  0.  0.  1.  1.]\n",
      " [ 0.  0.  0.  0.  0.]]\n",
      "\n",
      "~~~~~~~~~~~~~~~~~~~~~~~~~~~~~~~~~~~~~~~~~~~~~~~~~~\n",
      "\n",
      "To verify A*x = lambda*x\n",
      "\n"
     ]
    }
   ],
   "source": [
    "print(\"~~\"*25)\n",
    "print(f\"Eigenvalues:\\n{values}\\n\")\n",
    "print(f\"Eigenvectors:\\n{vectors}\\n\")\n",
    "print(\"~~\"*25)\n",
    "\n",
    "sleep(2.5)\n",
    "\n",
    "print(\"\\nTo verify A*x = lambda*x\\n\")\n",
    "sleep(1.5)"
   ]
  },
  {
   "cell_type": "code",
   "execution_count": 5,
   "id": "fa513153-3796-438d-85a2-5f908a469a8d",
   "metadata": {},
   "outputs": [
    {
     "name": "stdout",
     "output_type": "stream",
     "text": [
      "Ax =  [9. 0. 0. 0. 0.]\n",
      "LamdbaX =  [9. 0. 0. 0. 0.]\n",
      "Ax-lambdaX =  [0. 0. 0. 0. 0.]\n",
      "Ax =  [-9.  0.  0.  0.  0.]\n",
      "LamdbaX =  [-9.  0.  0.  0.  0.]\n",
      "Ax-lambdaX =  [0. 0. 0. 0. 0.]\n",
      "Ax =  [0. 0. 9. 0. 0.]\n",
      "LamdbaX =  [0. 0. 9. 0. 0.]\n",
      "Ax-lambdaX =  [0. 0. 0. 0. 0.]\n",
      "Ax =  [0. 0. 0. 9. 0.]\n",
      "LamdbaX =  [0. 0. 0. 9. 0.]\n",
      "Ax-lambdaX =  [0. 0. 0. 0. 0.]\n",
      "Ax =  [0. 0. 0. 9. 0.]\n",
      "LamdbaX =  [0. 0. 0. 9. 0.]\n",
      "Ax-lambdaX =  [0. 0. 0. 0. 0.]\n"
     ]
    }
   ],
   "source": [
    "# Verify the Results\n",
    "for i in range(len(A)):\n",
    "    Ax = np.dot(A, vectors[:,i]).round(4)\n",
    "    lambdaX = np.dot(values[i], vectors[:,i]).round(4)\n",
    "    print(\"Ax = \", Ax)\n",
    "    print(\"LamdbaX = \", lambdaX)\n",
    "    print(\"Ax-lambdaX = \", Ax-lambdaX)"
   ]
  },
  {
   "cell_type": "code",
   "execution_count": 6,
   "id": "394aae71-d2a6-4b07-90ed-8869e84a69e1",
   "metadata": {},
   "outputs": [],
   "source": [
    "B = np.array([[52,4,6,8,9,12],\n",
    "              [2,54,6,8,9,12],\n",
    "              [2,4,56,8,9,12],\n",
    "              [2,4,6,58,9,12],\n",
    "              [2,4,6,8,59,12],\n",
    "              [2,4,6,8,9,62]], dtype = \"float\")\n",
    "\n",
    "# compute the eigensystem\n",
    "# Lambda, X\n",
    "values, vectors = np.linalg.eig(B.copy())"
   ]
  },
  {
   "cell_type": "code",
   "execution_count": 7,
   "id": "1c27a03d-d9c5-481e-8bb6-99fb43f15f0a",
   "metadata": {},
   "outputs": [
    {
     "name": "stdout",
     "output_type": "stream",
     "text": [
      "~~~~~~~~~~~~~~~~~~~~~~~~~~~~~~~~~~~~~~~~~~~~~~~~~~\n",
      "Eigenvalues:\n",
      "[50. 91. 50. 50. 50. 50.]\n",
      "\n",
      "Eigenvectors:\n",
      "[[-0.99348951  0.40824829 -0.46492403 -0.17017947 -0.00808223 -0.08921783]\n",
      " [ 0.05094818  0.40824829  0.87315506  0.45743471  0.00650558  0.08803403]\n",
      " [ 0.05094818  0.40824829 -0.07322206  0.78960314  0.20415928  0.09844248]\n",
      " [ 0.05094818  0.40824829 -0.07322206 -0.2147241  -0.89354981  0.09844248]\n",
      " [ 0.05094818  0.40824829 -0.07322206 -0.2147241   0.28934157  0.7193913 ]\n",
      " [ 0.05094818  0.40824829 -0.07322206 -0.2147241   0.27579257 -0.66886808]]\n",
      "\n",
      "~~~~~~~~~~~~~~~~~~~~~~~~~~~~~~~~~~~~~~~~~~~~~~~~~~\n",
      "\n",
      "To verify A*x = lambda*x\n",
      "\n"
     ]
    }
   ],
   "source": [
    "# Print out your results\n",
    "\n",
    "print(\"~~\"*25)\n",
    "print(f\"Eigenvalues:\\n{values}\\n\")\n",
    "print(f\"Eigenvectors:\\n{vectors}\\n\")\n",
    "print(\"~~\"*25)\n",
    "\n",
    "sleep(2.5)\n",
    "\n",
    "print(\"\\nTo verify A*x = lambda*x\\n\")\n",
    "sleep(1.5)"
   ]
  },
  {
   "cell_type": "code",
   "execution_count": 9,
   "id": "51be733b-651c-4cc1-8017-7df8ccbd0cfe",
   "metadata": {},
   "outputs": [
    {
     "name": "stdout",
     "output_type": "stream",
     "text": [
      "Ax =  [-49.6745   2.5474   2.5474   2.5474   2.5474   2.5474]\n",
      "LamdbaX =  [-49.6745   2.5474   2.5474   2.5474   2.5474   2.5474]\n",
      "Ax-lambdaX =  [0. 0. 0. 0. 0. 0.]\n",
      "Ax =  [37.1506 37.1506 37.1506 37.1506 37.1506 37.1506]\n",
      "LamdbaX =  [37.1506 37.1506 37.1506 37.1506 37.1506 37.1506]\n",
      "Ax-lambdaX =  [0. 0. 0. 0. 0. 0.]\n",
      "Ax =  [-23.2462  43.6578  -3.6611  -3.6611  -3.6611  -3.6611]\n",
      "LamdbaX =  [-23.2462  43.6578  -3.6611  -3.6611  -3.6611  -3.6611]\n",
      "Ax-lambdaX =  [0. 0. 0. 0. 0. 0.]\n",
      "Ax =  [ -8.509   22.8717  39.4802 -10.7362 -10.7362 -10.7362]\n",
      "LamdbaX =  [ -8.509   22.8717  39.4802 -10.7362 -10.7362 -10.7362]\n",
      "Ax-lambdaX =  [0. 0. 0. 0. 0. 0.]\n",
      "Ax =  [ -0.4041   0.3253  10.208  -44.6775  14.4671  13.7896]\n",
      "LamdbaX =  [ -0.4041   0.3253  10.208  -44.6775  14.4671  13.7896]\n",
      "Ax-lambdaX =  [0. 0. 0. 0. 0. 0.]\n",
      "Ax =  [ -4.4609   4.4017   4.9221   4.9221  35.9696 -33.4434]\n",
      "LamdbaX =  [ -4.4609   4.4017   4.9221   4.9221  35.9696 -33.4434]\n",
      "Ax-lambdaX =  [0. 0. 0. 0. 0. 0.]\n"
     ]
    }
   ],
   "source": [
    "# Verify the Results\n",
    "for i in range(len(B)):\n",
    "    Bx = np.dot(B, vectors[:,i]).round(4)\n",
    "    lambdaX = np.dot(values[i], vectors[:,i]).round(4)\n",
    "    print(\"Ax = \", Bx)\n",
    "    print(\"LamdbaX = \", lambdaX)\n",
    "    print(\"Ax-lambdaX = \", Bx-lambdaX)"
   ]
  },
  {
   "cell_type": "code",
   "execution_count": 13,
   "id": "e50a5c22-063a-4bc3-b898-def157dc0a1b",
   "metadata": {},
   "outputs": [
    {
     "name": "stdout",
     "output_type": "stream",
     "text": [
      "New eigenvector from repeated eigenvalue:\n",
      " [-0.1782617   0.46394029  0.99376242 -1.1082739   0.07461747  0.06106848]\n",
      "Error for new eigenvector from repeated eigenvalues:  [-0.  0.  0. -0.  0.  0.]\n"
     ]
    }
   ],
   "source": [
    "# Create new eigenvector\n",
    "vect = vectors[:,3] + vectors[:,4]\n",
    "\n",
    "# Verify new eigensystem\n",
    "print(\"New eigenvector from repeated eigenvalue:\\n\", vect)\n",
    "print(\"Error for new eigenvector from repeated eigenvalues: \", (np.dot(B.copy(), vect) - np.dot(values[3], vect)).round(4))"
   ]
  },
  {
   "cell_type": "code",
   "execution_count": null,
   "id": "c499d99b-2db7-4082-9cac-6efe2f916ece",
   "metadata": {},
   "outputs": [],
   "source": []
  }
 ],
 "metadata": {
  "kernelspec": {
   "display_name": "Python 3 (ipykernel)",
   "language": "python",
   "name": "python3"
  },
  "language_info": {
   "codemirror_mode": {
    "name": "ipython",
    "version": 3
   },
   "file_extension": ".py",
   "mimetype": "text/x-python",
   "name": "python",
   "nbconvert_exporter": "python",
   "pygments_lexer": "ipython3",
   "version": "3.11.5"
  }
 },
 "nbformat": 4,
 "nbformat_minor": 5
}
