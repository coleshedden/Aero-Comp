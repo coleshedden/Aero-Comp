{
 "cells": [
  {
   "cell_type": "markdown",
   "id": "a94294bc-7072-4f8e-a0de-70049cc71d67",
   "metadata": {},
   "source": [
    "# Unit 5 - Root Finding\n",
    "## Task 2"
   ]
  },
  {
   "cell_type": "code",
   "execution_count": 15,
   "id": "d0301def-d717-4542-a89f-3f34d7dbf1b5",
   "metadata": {},
   "outputs": [
    {
     "name": "stdin",
     "output_type": "stream",
     "text": [
      "Provide 2 parameters out of these three variables: theta, beta, mach (e.g. theta = 5 beta = 40) theta = 5 mach = 1.8\n"
     ]
    },
    {
     "name": "stdout",
     "output_type": "stream",
     "text": [
      "beta =  38.44398276881643\n"
     ]
    }
   ],
   "source": [
    "import MyFunc\n",
    "import numpy as np\n",
    "\n",
    "# prompt user for parameter to solve\n",
    "ans = input(\"Provide 2 parameters out of these three variables: theta, beta, mach (e.g. theta = 5 beta = 40)\")\n",
    "ans = ans.lower()\n",
    "\n",
    "if \"beta\" not in ans:\n",
    "    b = ans.split() # split answer\n",
    "    \n",
    "    # search answer for theta and mach\n",
    "    for i in range(len(b)):\n",
    "        if b[i] == \"theta\":\n",
    "            theta = float(b[i+2])\n",
    "        elif b[i] == \"mach\":\n",
    "            M = float(b[i+2])\n",
    "    theta *= (np.pi/180) # convert degrees to radians\n",
    "\n",
    "    # initialize shock angle mach equation and derivative w/ respect to beta\n",
    "    def f_beta(beta,M=M,theta=theta): return 2*(1/np.tan(beta))*((M**2*((np.sin(beta))**2)-1)/(M**2*(1.4+np.cos(2*beta))+2)) - np.tan(theta)\n",
    "    def df_beta(beta,M=M):\n",
    "        numerator = -2 * M**2 * np.sin(2 * beta) * (1 / np.tan(beta)) * (M**2 * (np.sin(beta))**2 - 1) - (-1 / (np.sin(beta)**2) * (-1 + M**2 * (np.sin(beta))**2) + M**2 * np.sin(2 * beta) * (1 / np.tan(beta))) * (M**2 * (1.4 + np.cos(2 * beta)) + 2)\n",
    "        denominator = (M**2 * (1.4 + np.cos(2 * beta)) + 2)**2 * (np.sin(beta))**2\n",
    "        return numerator / denominator\n",
    "    \n",
    "    # original bracket for rootsearch\n",
    "    x1 = .01\n",
    "    x2 = np.pi/2\n",
    "\n",
    "    # rootSearch function to bracket root\n",
    "    for i in range(4):\n",
    "        dx = (x2 - x1)/(2.0)\n",
    "        x1,x2 = MyFunc.rootsearch(f_beta,x1,x2,dx)\n",
    "\n",
    "    # import newtonRaphson\n",
    "    x = MyFunc.newtonRaphson(f_beta,df_beta,x1,x2)\n",
    "\n",
    "    # convert back to degrees and print\n",
    "    print(\"beta = \", x*180/np.pi)\n",
    "\n",
    "elif \"theta\" not in ans: \n",
    "    b = ans.split() # split answer\n",
    "   \n",
    "    # search for values of beta and mach\n",
    "    for i in range(len(b)): \n",
    "        if b[i] == \"beta\":\n",
    "            beta = float(b[i+2])\n",
    "        elif b[i] == \"mach\":\n",
    "            M = float(b[i+2])\n",
    "    \n",
    "    # convert to radians\n",
    "    beta *= np.pi/180\n",
    "\n",
    "    # function and derivative w/ respect to theta\n",
    "    def f_theta(theta,M=M,beta=beta): return 2*(1/np.tan(beta))*((M**2*((np.sin(beta))**2)-1)/(M**2*(1.4+np.cos(2*beta))+2)) - np.tan(theta)\n",
    "    def df_theta(theta): return -1/(np.cos(theta))**2\n",
    "\n",
    "    # original bracket\n",
    "    x1 = .01\n",
    "    x2 = np.pi/2\n",
    "\n",
    "    # rootsearch to bracket again\n",
    "    for i in range(4):\n",
    "        dx = (x2 - x1)/(2.0)\n",
    "        x1,x2 = MyFunc.rootsearch(f_theta,x1,x2,dx)\n",
    "\n",
    "    # import newtonRaphson\n",
    "    x = MyFunc.newtonRaphson(f_theta,df_theta,x1,x2)\n",
    "\n",
    "    # back to degrees and output\n",
    "    print(\"theta = \", x*180/np.pi)\n",
    "\n",
    "else:\n",
    "    b = ans.split() # split answer\n",
    "    \n",
    "    # search for values of beta and mach\n",
    "    for i in range(len(b)):\n",
    "        if b[i] == \"beta\":\n",
    "            beta = float(b[i+2])\n",
    "        elif b[i] == \"theta\":\n",
    "            theta = float(b[i+2])\n",
    "    # convert to radians\n",
    "    beta *= np.pi/180\n",
    "    theta *= np.pi/180\n",
    "\n",
    "    # original equation and derivative w/ respect to M (Mach)\n",
    "    def f_Mach(M,beta=beta,theta=theta): return 2*(1/np.tan(beta))*((M**2*((np.sin(beta))**2)-1)/(M**2*(1.4+np.cos(2*beta))+2)) - np.tan(theta)\n",
    "    def df_Mach(M,beta=beta):\n",
    "        numerator = 2 * (1 / np.tan(beta)) * (4 * M * np.sin(beta)**2 + 2 * M * np.cos(2 * beta) + 2.8 * M)\n",
    "        denominator = (M**2 * (np.cos(2 * beta) + 1.4) + 2)**2\n",
    "        return  numerator / denominator\n",
    "    # original bracket\n",
    "    x1 = 0.0\n",
    "    x2 = 20.0\n",
    "\n",
    "    # rootsearch\n",
    "    for i in range(4):\n",
    "        dx = (x2 - x1)/2.0\n",
    "        x1,x2 = MyFunc.rootsearch(f_Mach,x1,x2,dx)\n",
    "\n",
    "    # newtonRaphson\n",
    "    x = MyFunc.newtonRaphson(f_Mach,df_Mach,x1,x2)\n",
    "\n",
    "    # output\n",
    "    print(\"Mach = \", x)\n",
    "    \n",
    "\n"
   ]
  },
  {
   "cell_type": "markdown",
   "id": "95f2ee00-fc39-4ddf-8d10-587fe55cc16b",
   "metadata": {},
   "source": [
    "## Task 3\n",
    "### Problem Set 4.1 #19"
   ]
  },
  {
   "cell_type": "code",
   "execution_count": 5,
   "id": "3c27df92-99a7-4641-9f46-e53390a207c5",
   "metadata": {},
   "outputs": [
    {
     "name": "stdout",
     "output_type": "stream",
     "text": [
      "time for rocket to reach speed of sound (335 m/s): 70.87797226796465 seconds\n"
     ]
    }
   ],
   "source": [
    "import MyFunc\n",
    "import numpy as np\n",
    "from numpy import sign\n",
    "\n",
    "# initialize values\n",
    "u = 2510\n",
    "M0 = 2.8e6\n",
    "m = 13.3e3\n",
    "g = 9.81\n",
    "\n",
    "# define expression\n",
    "def v(t): return (u * np.log(M0 / (M0 - m * t)) - g * t) - 335\n",
    "\n",
    "# bracket root\n",
    "x1 = 1\n",
    "\n",
    "x2 = 100\n",
    "\n",
    "# import bisection to solve for root\n",
    "time = MyFunc.bisection(v,x1,x2,switch=1,tol=1.0e-9)\n",
    "\n",
    "# output\n",
    "print(\"time for rocket to reach speed of sound (335 m/s): {0} seconds\".format(time))\n"
   ]
  },
  {
   "cell_type": "markdown",
   "id": "0b6cf21a-4459-44a6-9bb1-50b681a97cbd",
   "metadata": {},
   "source": [
    "## Task 4\n",
    "### Problem Set 4.2 #3"
   ]
  },
  {
   "cell_type": "code",
   "execution_count": 3,
   "id": "333c9ef6-78a1-4b48-bd49-9eb91e501baa",
   "metadata": {
    "scrolled": true
   },
   "outputs": [
    {
     "name": "stdout",
     "output_type": "stream",
     "text": [
      "Root is:  5.999739303921316\n",
      "\n",
      "Deflated Polynomial:\n",
      "1.0x^4 + -24.0x^3 + 217.0x^2 + -876.0x + 1332.0\n"
     ]
    }
   ],
   "source": [
    "import MyFunc\n",
    "import numpy as np\n",
    "import sympy as sp\n",
    "\n",
    "# define f and derivative of f\n",
    "def f(x): return x**5 - 30*x**4 + 361*x**3 - 2178*x**2 +6588*x - 7992\n",
    "     \n",
    "def df(x): return 5*x**4 - 120*x**3 + 1083*x**2 - 4356*x + 6588\n",
    "\n",
    "# bracket root\n",
    "x1 = 1\n",
    "x2 = 10\n",
    "\n",
    "# newtonRaphson\n",
    "root = MyFunc.newtonRaphson(f,df,x1,x2)\n",
    "\n",
    "# output\n",
    "print(\"Root is: \",root)\n",
    "\n",
    "# store coefficients for original equation starting from x^0 \n",
    "c = np.array([-7992.0,6588.0,-2178.0,361.0,-30.0,1.0])\n",
    "\n",
    "# provide root for deflPoly\n",
    "root = 6\n",
    "b = MyFunc.deflPoly(c,root)\n",
    "\n",
    "# output\n",
    "print('\\nDeflated Polynomial:\\n{0}x^4 + {1}x^3 + {2}x^2 + {3}x + {4}'.format(b[4],b[3],b[2],b[1],b[0]))\n"
   ]
  },
  {
   "cell_type": "markdown",
   "id": "44dc4fbd-5a44-45fa-89eb-366b918dd1d0",
   "metadata": {},
   "source": [
    "### Problem Set 4.2 #10"
   ]
  },
  {
   "cell_type": "code",
   "execution_count": 4,
   "id": "e95cb106-e551-4628-8ec9-7967696ef439",
   "metadata": {},
   "outputs": [
    {
     "data": {
      "image/png": "[encoded data removed]",
      "text/plain": [
       "<Figure size 1000x700 with 1 Axes>"
      ]
     },
     "metadata": {},
     "output_type": "display_data"
    },
    {
     "name": "stdout",
     "output_type": "stream",
     "text": [
      "zeros =  [1.0999999999999999, -3.2]\n"
     ]
    }
   ],
   "source": [
    "import numpy as np\n",
    "import cmath\n",
    "from random import random\n",
    "import MyFunc\n",
    "import matplotlib.pyplot as plt\n",
    "\n",
    "# initialize x and f for plotting\n",
    "x = np.linspace(-3.5, 1.5, 100)\n",
    "def f(x): return x**4 + 2.1*x**3 - 2.52*x**2 + 2.1*x - 3.52\n",
    "# Create array for f based on x values\n",
    "F = f(x)\n",
    "\n",
    "# Plot data and curve\n",
    "fig, ax = plt.subplots()\n",
    "ax.plot(x,F,\"b\")\n",
    "ax.set_xlabel(\"x\")\n",
    "ax.set_ylabel(\"y\")\n",
    "ax.set_title(\"Plot of F(x)\")\n",
    "fig.set_size_inches([10,7])\n",
    "ax.grid(True)\n",
    "plt.show()\n",
    "\n",
    "# initialize root list\n",
    "xs = []\n",
    "\n",
    "# derivative of f for newtonRaphson\n",
    "def df(x): return 4*x**3 + 6.3*x**2 - 5.04*x + 2.1\n",
    "\n",
    "# bracket #1 for root based on plot\n",
    "x1 = 1.0\n",
    "x2 = 1.5\n",
    "p1 = MyFunc.newtonRaphson(f,df,x1,x2)\n",
    "\n",
    "# add value to root list\n",
    "xs.append(p1)\n",
    "\n",
    "# bracket #2 for other root based on plot\n",
    "x1 = -3.0\n",
    "x2 = -3.5\n",
    "p2 = MyFunc.newtonRaphson(f,df,x1,x2)\n",
    "\n",
    "# add value to root list\n",
    "xs.append(p2)\n",
    "\n",
    "# output\n",
    "print(\"zeros = \", xs)\n",
    "\n",
    "\n"
   ]
  }
 ],
 "metadata": {
  "kernelspec": {
   "display_name": "Python 3 (ipykernel)",
   "language": "python",
   "name": "python3"
  },
  "language_info": {
   "codemirror_mode": {
    "name": "ipython",
    "version": 3
   },
   "file_extension": ".py",
   "mimetype": "text/x-python",
   "name": "python",
   "nbconvert_exporter": "python",
   "pygments_lexer": "ipython3",
   "version": "3.11.5"
  }
 },
 "nbformat": 4,
 "nbformat_minor": 5
}
